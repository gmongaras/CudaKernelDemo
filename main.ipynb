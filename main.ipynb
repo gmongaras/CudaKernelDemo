{
 "cells": [
  {
   "cell_type": "code",
   "execution_count": 1,
   "metadata": {},
   "outputs": [
    {
     "name": "stderr",
     "output_type": "stream",
     "text": [
      "WARNING: Ignoring invalid distribution -umpy (c:\\users\\gabri\\appdata\\roaming\\python\\python310\\site-packages)\n",
      "WARNING: Ignoring invalid distribution -umpy (c:\\users\\gabri\\appdata\\roaming\\python\\python310\\site-packages)\n",
      "WARNING: Skipping kernel_go_brrrrr as it is not installed.\n"
     ]
    },
    {
     "name": "stdout",
     "output_type": "stream",
     "text": [
      "running install\n",
      "running bdist_egg\n",
      "running egg_info\n",
      "writing kernel_go_brrrrr.egg-info\\PKG-INFO\n",
      "writing dependency_links to kernel_go_brrrrr.egg-info\\dependency_links.txt\n",
      "writing top-level names to kernel_go_brrrrr.egg-info\\top_level.txt\n",
      "reading manifest file 'kernel_go_brrrrr.egg-info\\SOURCES.txt'\n",
      "writing manifest file 'kernel_go_brrrrr.egg-info\\SOURCES.txt'\n",
      "installing library code to build\\bdist.win-amd64\\egg\n",
      "running install_lib\n",
      "running build_ext\n",
      "creating build\\bdist.win-amd64\\egg\n",
      "creating build\\bdist.win-amd64\\egg\\kernel_go_brrrrr\n",
      "copying build\\lib.win-amd64-cpython-310\\kernel_go_brrrrr\\Dot.cp310-win_amd64.pyd -> build\\bdist.win-amd64\\egg\\kernel_go_brrrrr\n",
      "copying build\\lib.win-amd64-cpython-310\\kernel_go_brrrrr\\Dot1.cp310-win_amd64.pyd -> build\\bdist.win-amd64\\egg\\kernel_go_brrrrr\n",
      "copying build\\lib.win-amd64-cpython-310\\kernel_go_brrrrr\\Dot2.cp310-win_amd64.pyd -> build\\bdist.win-amd64\\egg\\kernel_go_brrrrr\n",
      "copying build\\lib.win-amd64-cpython-310\\kernel_go_brrrrr\\Dot3.cp310-win_amd64.pyd -> build\\bdist.win-amd64\\egg\\kernel_go_brrrrr\n",
      "copying build\\lib.win-amd64-cpython-310\\kernel_go_brrrrr\\Dot4.cp310-win_amd64.pyd -> build\\bdist.win-amd64\\egg\\kernel_go_brrrrr\n",
      "copying build\\lib.win-amd64-cpython-310\\kernel_go_brrrrr\\Dot5.cp310-win_amd64.pyd -> build\\bdist.win-amd64\\egg\\kernel_go_brrrrr\n",
      "copying build\\lib.win-amd64-cpython-310\\kernel_go_brrrrr\\Matmul1.cp310-win_amd64.pyd -> build\\bdist.win-amd64\\egg\\kernel_go_brrrrr\n",
      "copying build\\lib.win-amd64-cpython-310\\kernel_go_brrrrr\\Matmul2.cp310-win_amd64.pyd -> build\\bdist.win-amd64\\egg\\kernel_go_brrrrr\n",
      "copying build\\lib.win-amd64-cpython-310\\kernel_go_brrrrr\\Matmul3.cp310-win_amd64.pyd -> build\\bdist.win-amd64\\egg\\kernel_go_brrrrr\n",
      "copying build\\lib.win-amd64-cpython-310\\kernel_go_brrrrr\\Matmul4.cp310-win_amd64.pyd -> build\\bdist.win-amd64\\egg\\kernel_go_brrrrr\n",
      "creating stub loader for kernel_go_brrrrr\\Dot1.cp310-win_amd64.pyd\n",
      "creating stub loader for kernel_go_brrrrr\\Dot2.cp310-win_amd64.pyd\n",
      "creating stub loader for kernel_go_brrrrr\\Dot3.cp310-win_amd64.pyd\n",
      "creating stub loader for kernel_go_brrrrr\\Dot4.cp310-win_amd64.pyd\n",
      "creating stub loader for kernel_go_brrrrr\\Matmul1.cp310-win_amd64.pyd\n",
      "creating stub loader for kernel_go_brrrrr\\Matmul2.cp310-win_amd64.pyd\n",
      "creating stub loader for kernel_go_brrrrr\\Matmul3.cp310-win_amd64.pyd\n",
      "creating stub loader for kernel_go_brrrrr\\Matmul4.cp310-win_amd64.pyd\n",
      "byte-compiling build\\bdist.win-amd64\\egg\\kernel_go_brrrrr\\Dot1.py to Dot1.cpython-310.pyc\n",
      "byte-compiling build\\bdist.win-amd64\\egg\\kernel_go_brrrrr\\Dot2.py to Dot2.cpython-310.pyc\n",
      "byte-compiling build\\bdist.win-amd64\\egg\\kernel_go_brrrrr\\Dot3.py to Dot3.cpython-310.pyc\n",
      "byte-compiling build\\bdist.win-amd64\\egg\\kernel_go_brrrrr\\Dot4.py to Dot4.cpython-310.pyc\n",
      "byte-compiling build\\bdist.win-amd64\\egg\\kernel_go_brrrrr\\Matmul1.py to Matmul1.cpython-310.pyc\n",
      "byte-compiling build\\bdist.win-amd64\\egg\\kernel_go_brrrrr\\Matmul2.py to Matmul2.cpython-310.pyc\n",
      "byte-compiling build\\bdist.win-amd64\\egg\\kernel_go_brrrrr\\Matmul3.py to Matmul3.cpython-310.pyc\n",
      "byte-compiling build\\bdist.win-amd64\\egg\\kernel_go_brrrrr\\Matmul4.py to Matmul4.cpython-310.pyc\n",
      "creating build\\bdist.win-amd64\\egg\\EGG-INFO\n",
      "copying kernel_go_brrrrr.egg-info\\PKG-INFO -> build\\bdist.win-amd64\\egg\\EGG-INFO\n",
      "copying kernel_go_brrrrr.egg-info\\SOURCES.txt -> build\\bdist.win-amd64\\egg\\EGG-INFO\n",
      "copying kernel_go_brrrrr.egg-info\\dependency_links.txt -> build\\bdist.win-amd64\\egg\\EGG-INFO\n",
      "copying kernel_go_brrrrr.egg-info\\top_level.txt -> build\\bdist.win-amd64\\egg\\EGG-INFO\n",
      "writing build\\bdist.win-amd64\\egg\\EGG-INFO\\native_libs.txt\n",
      "creating 'dist\\kernel_go_brrrrr-0.0.0-py3.10-win-amd64.egg' and adding 'build\\bdist.win-amd64\\egg' to it\n",
      "removing 'build\\bdist.win-amd64\\egg' (and everything under it)\n",
      "Processing kernel_go_brrrrr-0.0.0-py3.10-win-amd64.egg\n",
      "creating c:\\users\\gabri\\appdata\\local\\programs\\python\\python310\\lib\\site-packages\\kernel_go_brrrrr-0.0.0-py3.10-win-amd64.egg\n",
      "Extracting kernel_go_brrrrr-0.0.0-py3.10-win-amd64.egg to c:\\users\\gabri\\appdata\\local\\programs\\python\\python310\\lib\\site-packages\n",
      "Adding kernel-go-brrrrr 0.0.0 to easy-install.pth file\n",
      "detected new path './kernel_go_brrrrr-0.0.0-py3.10-win-amd64.egg'\n",
      "\n",
      "Installed c:\\users\\gabri\\appdata\\local\\programs\\python\\python310\\lib\\site-packages\\kernel_go_brrrrr-0.0.0-py3.10-win-amd64.egg\n",
      "Processing dependencies for kernel-go-brrrrr==0.0.0\n",
      "Finished processing dependencies for kernel-go-brrrrr==0.0.0\n"
     ]
    },
    {
     "name": "stderr",
     "output_type": "stream",
     "text": [
      "c:\\Users\\gabri\\AppData\\Local\\Programs\\Python\\Python310\\lib\\site-packages\\numpy\\_distributor_init.py:30: UserWarning: loaded more than 1 DLL from .libs:\n",
      "c:\\Users\\gabri\\AppData\\Local\\Programs\\Python\\Python310\\lib\\site-packages\\numpy\\.libs\\libopenblas.FB5AE2TYXYH2IJRDKGDGQ3XBKLKTF43H.gfortran-win_amd64.dll\n",
      "c:\\Users\\gabri\\AppData\\Local\\Programs\\Python\\Python310\\lib\\site-packages\\numpy\\.libs\\libopenblas64__v0.3.21-gcc_10_3_0.dll\n",
      "  warnings.warn(\"loaded more than 1 DLL from .libs:\"\n",
      "c:\\Users\\gabri\\AppData\\Local\\Programs\\Python\\Python310\\lib\\site-packages\\setuptools\\_distutils\\cmd.py:66: SetuptoolsDeprecationWarning: setup.py install is deprecated.\n",
      "!!\n",
      "\n",
      "        ********************************************************************************\n",
      "        Please avoid running ``setup.py`` directly.\n",
      "        Instead, use pypa/build, pypa/installer or other\n",
      "        standards-based tools.\n",
      "\n",
      "        See https://blog.ganssle.io/articles/2021/10/setup-py-deprecated.html for details.\n",
      "        ********************************************************************************\n",
      "\n",
      "!!\n",
      "  self.initialize_options()\n",
      "c:\\Users\\gabri\\AppData\\Local\\Programs\\Python\\Python310\\lib\\site-packages\\setuptools\\_distutils\\cmd.py:66: EasyInstallDeprecationWarning: easy_install command is deprecated.\n",
      "!!\n",
      "\n",
      "        ********************************************************************************\n",
      "        Please avoid running ``setup.py`` and ``easy_install``.\n",
      "        Instead, use pypa/build, pypa/installer or other\n",
      "        standards-based tools.\n",
      "\n",
      "        See https://github.com/pypa/setuptools/issues/917 for details.\n",
      "        ********************************************************************************\n",
      "\n",
      "!!\n",
      "  self.initialize_options()\n",
      "C:\\Users\\gabri\\AppData\\Roaming\\Python\\Python310\\site-packages\\torch\\utils\\cpp_extension.py:476: UserWarning: Attempted to use ninja as the BuildExtension backend but we could not find ninja.. Falling back to using the slow distutils backend.\n",
      "  warnings.warn(msg.format('we could not find ninja.'))\n",
      "C:\\Users\\gabri\\AppData\\Roaming\\Python\\Python310\\site-packages\\torch\\utils\\cpp_extension.py:359: UserWarning: Error checking compiler version for cl: [WinError 2] The system cannot find the file specified\n",
      "  warnings.warn(f'Error checking compiler version for {compiler}: {error}')\n",
      "zip_safe flag not set; analyzing archive contents...\n",
      "kernel_go_brrrrr.__pycache__.Dot1.cpython-310: module references __file__\n",
      "kernel_go_brrrrr.__pycache__.Dot2.cpython-310: module references __file__\n",
      "kernel_go_brrrrr.__pycache__.Dot3.cpython-310: module references __file__\n",
      "kernel_go_brrrrr.__pycache__.Dot4.cpython-310: module references __file__\n",
      "kernel_go_brrrrr.__pycache__.Matmul1.cpython-310: module references __file__\n",
      "kernel_go_brrrrr.__pycache__.Matmul2.cpython-310: module references __file__\n",
      "kernel_go_brrrrr.__pycache__.Matmul3.cpython-310: module references __file__\n",
      "kernel_go_brrrrr.__pycache__.Matmul4.cpython-310: module references __file__\n"
     ]
    }
   ],
   "source": [
    "!python -m pip uninstall kernel_go_brrrrr -y\n",
    "!python setup.py install"
   ]
  },
  {
   "cell_type": "code",
   "execution_count": 2,
   "metadata": {},
   "outputs": [
    {
     "name": "stderr",
     "output_type": "stream",
     "text": [
      "c:\\Users\\gabri\\AppData\\Local\\Programs\\Python\\Python310\\lib\\site-packages\\numpy\\_distributor_init.py:30: UserWarning: loaded more than 1 DLL from .libs:\n",
      "c:\\Users\\gabri\\AppData\\Local\\Programs\\Python\\Python310\\lib\\site-packages\\numpy\\.libs\\libopenblas.FB5AE2TYXYH2IJRDKGDGQ3XBKLKTF43H.gfortran-win_amd64.dll\n",
      "c:\\Users\\gabri\\AppData\\Local\\Programs\\Python\\Python310\\lib\\site-packages\\numpy\\.libs\\libopenblas64__v0.3.21-gcc_10_3_0.dll\n",
      "  warnings.warn(\"loaded more than 1 DLL from .libs:\"\n"
     ]
    }
   ],
   "source": [
    "import numpy as np\n",
    "import torch\n",
    "import matplotlib.pyplot as plt\n",
    "\n",
    "# Defined in setup.py\n",
    "import kernel_go_brrrrr"
   ]
  },
  {
   "cell_type": "markdown",
   "metadata": {},
   "source": [
    "# 1 - Garbage dot product"
   ]
  },
  {
   "cell_type": "markdown",
   "metadata": {},
   "source": [
    "We will start by doing a basic dot product with one thread. Yes this will be terrible."
   ]
  },
  {
   "cell_type": "code",
   "execution_count": 3,
   "metadata": {},
   "outputs": [],
   "source": [
    "from kernel_go_brrrrr import Dot1"
   ]
  },
  {
   "cell_type": "code",
   "execution_count": 4,
   "metadata": {},
   "outputs": [
    {
     "name": "stdout",
     "output_type": "stream",
     "text": [
      "True\n"
     ]
    },
    {
     "name": "stdout",
     "output_type": "stream",
     "text": [
      "27.6 µs ± 982 ns per loop (mean ± std. dev. of 7 runs, 10,000 loops each)\n",
      "40.9 µs ± 1.31 µs per loop (mean ± std. dev. of 7 runs, 10,000 loops each)\n"
     ]
    }
   ],
   "source": [
    "# Let's do a small dot product\n",
    "N = 128\n",
    "A = torch.randn(N).cuda()\n",
    "B = torch.randn(N).cuda()\n",
    "\n",
    "# Outputs should be the same\n",
    "out = A@B\n",
    "out2 = Dot1.float32(A, B)\n",
    "print(torch.allclose(out, out2))\n",
    "\n",
    "# Time each operation\n",
    "%timeit A@B\n",
    "%timeit Dot1.float32(A, B)"
   ]
  },
  {
   "cell_type": "markdown",
   "metadata": {},
   "source": [
    "Wow not that bad"
   ]
  },
  {
   "cell_type": "code",
   "execution_count": 5,
   "metadata": {},
   "outputs": [
    {
     "name": "stdout",
     "output_type": "stream",
     "text": [
      "26.6 µs ± 1.74 µs per loop (mean ± std. dev. of 7 runs, 10,000 loops each)\n",
      "544 µs ± 3.52 µs per loop (mean ± std. dev. of 7 runs, 1,000 loops each)\n"
     ]
    }
   ],
   "source": [
    "# Let's do a small dot product\n",
    "N = 12800\n",
    "A = torch.randn(N).cuda()\n",
    "B = torch.randn(N).cuda()\n",
    "\n",
    "# Time each operation\n",
    "%timeit A@B\n",
    "%timeit Dot1.float32(A, B)"
   ]
  },
  {
   "cell_type": "markdown",
   "metadata": {},
   "source": [
    "Ha just kidding this thing sucks :)"
   ]
  },
  {
   "cell_type": "markdown",
   "metadata": {},
   "source": [
    "# 2 - Global memory is large, but slow :/\n",
    "Global memory is called HBM - high bandwidth memory\n",
    "- On an A100, we have 40 GB or 80 GB. Really high. This is where tensors are \"stored\"\n",
    "\n",
    "Problem: doing anything with HBM is slow\n",
    "\n",
    "Solution: we should utilize small \"thread\" memory called SRAM\n",
    "- On an A100, SRAM is like 20 MB or something"
   ]
  },
  {
   "cell_type": "code",
   "execution_count": 6,
   "metadata": {},
   "outputs": [],
   "source": [
    "from kernel_go_brrrrr import Dot1, Dot2"
   ]
  },
  {
   "cell_type": "code",
   "execution_count": 7,
   "metadata": {},
   "outputs": [
    {
     "name": "stdout",
     "output_type": "stream",
     "text": [
      "True\n",
      "True\n"
     ]
    },
    {
     "name": "stdout",
     "output_type": "stream",
     "text": [
      "28 µs ± 1.58 µs per loop (mean ± std. dev. of 7 runs, 10,000 loops each)\n",
      "41.3 µs ± 1.67 µs per loop (mean ± std. dev. of 7 runs, 10,000 loops each)\n",
      "34.5 µs ± 1.33 µs per loop (mean ± std. dev. of 7 runs, 10,000 loops each)\n"
     ]
    }
   ],
   "source": [
    "# Small dot product\n",
    "N = 128\n",
    "A = torch.randn(N).cuda()\n",
    "B = torch.randn(N).cuda()\n",
    "\n",
    "# Outputs should be the same\n",
    "out = A@B\n",
    "out2 = Dot1.float32(A, B)\n",
    "out3 = Dot2.float32(A, B)\n",
    "print(torch.allclose(out, out2))\n",
    "print(torch.allclose(out, out2))\n",
    "\n",
    "# Time each operation\n",
    "%timeit A@B\n",
    "%timeit Dot1.float32(A, B)\n",
    "%timeit Dot2.float32(A, B)"
   ]
  },
  {
   "cell_type": "code",
   "execution_count": 8,
   "metadata": {},
   "outputs": [
    {
     "name": "stdout",
     "output_type": "stream",
     "text": [
      "26.5 µs ± 2.26 µs per loop (mean ± std. dev. of 7 runs, 10,000 loops each)\n",
      "543 µs ± 2.5 µs per loop (mean ± std. dev. of 7 runs, 1,000 loops each)\n",
      "188 µs ± 2.87 µs per loop (mean ± std. dev. of 7 runs, 10,000 loops each)\n"
     ]
    }
   ],
   "source": [
    "# Large dot product\n",
    "N = 12800\n",
    "A = torch.randn(N).cuda()\n",
    "B = torch.randn(N).cuda()\n",
    "\n",
    "# Time each operation\n",
    "%timeit A@B\n",
    "%timeit Dot1.float32(A, B)\n",
    "%timeit Dot2.float32(A, B)"
   ]
  },
  {
   "cell_type": "markdown",
   "metadata": {},
   "source": [
    "Wow, massive improvement, but still sucks. Fortunately, we are not utilizing cuda."
   ]
  },
  {
   "cell_type": "markdown",
   "metadata": {},
   "source": [
    "# 3 - Multiple Threads - Actually Utilizing Cuda\n",
    "Intead of using one thread, we can have each thread compute the product of individual items in the vector.\n",
    "\n",
    "For example, let's say we have vectors A = [1,2,3] and B = [4,5,6]\n",
    "\n",
    "We will utilize three threads which will compute the following in parallel. Note that each thread stores the result in \"shared SRAM memory\":\n",
    "- T1: shared[0] = 1 * 4\n",
    "- T2: shared[1] = 2 * 5\n",
    "- T3: shared[2] = 3 * 6\n",
    "\n",
    "We now have shared memory that look like:\n",
    "[4, 10, 18]\n",
    "\n",
    "Now we need to sum these. An inefficient, but easy way to do this is by summing all elements with thread 1. Then stores this in the result."
   ]
  },
  {
   "cell_type": "code",
   "execution_count": 9,
   "metadata": {},
   "outputs": [],
   "source": [
    "from kernel_go_brrrrr import Dot1, Dot2, Dot3"
   ]
  },
  {
   "cell_type": "code",
   "execution_count": 10,
   "metadata": {},
   "outputs": [
    {
     "name": "stdout",
     "output_type": "stream",
     "text": [
      "True\n",
      "True\n",
      "True\n",
      "True\n"
     ]
    },
    {
     "name": "stdout",
     "output_type": "stream",
     "text": [
      "30 µs ± 6.22 µs per loop (mean ± std. dev. of 7 runs, 10,000 loops each)\n",
      "79.4 µs ± 29.9 µs per loop (mean ± std. dev. of 7 runs, 10,000 loops each)\n",
      "34.4 µs ± 1.65 µs per loop (mean ± std. dev. of 7 runs, 10,000 loops each)\n",
      "34.5 µs ± 1.12 µs per loop (mean ± std. dev. of 7 runs, 10,000 loops each)\n"
     ]
    }
   ],
   "source": [
    "# Small dot product\n",
    "N = 128\n",
    "A = torch.randn(N).cuda()\n",
    "B = torch.randn(N).cuda()\n",
    "\n",
    "# Outputs should be the same\n",
    "out = A@B\n",
    "out2 = Dot1.float32(A, B)\n",
    "out3 = Dot2.float32(A, B)\n",
    "out4 = Dot3.float32(A, B)\n",
    "print(torch.allclose(out, out2))\n",
    "print(torch.allclose(out, out2))\n",
    "print(torch.allclose(out, out3))\n",
    "print(torch.allclose(out, out4))\n",
    "\n",
    "# Time each operation\n",
    "%timeit A@B\n",
    "%timeit Dot1.float32(A, B)\n",
    "%timeit Dot2.float32(A, B)\n",
    "%timeit Dot3.float32(A, B)"
   ]
  },
  {
   "cell_type": "code",
   "execution_count": 11,
   "metadata": {},
   "outputs": [
    {
     "name": "stdout",
     "output_type": "stream",
     "text": [
      "True\n",
      "True\n",
      "True\n",
      "True\n"
     ]
    },
    {
     "name": "stdout",
     "output_type": "stream",
     "text": [
      "25.3 µs ± 2.85 µs per loop (mean ± std. dev. of 7 runs, 10,000 loops each)\n",
      "68.6 µs ± 3.81 µs per loop (mean ± std. dev. of 7 runs, 10,000 loops each)\n",
      "42.7 µs ± 3.5 µs per loop (mean ± std. dev. of 7 runs, 10,000 loops each)\n",
      "33.2 µs ± 2.04 µs per loop (mean ± std. dev. of 7 runs, 10,000 loops each)\n"
     ]
    }
   ],
   "source": [
    "# Large dot product\n",
    "N = 1024\n",
    "A = torch.randn(N).cuda()\n",
    "B = torch.randn(N).cuda()\n",
    "\n",
    "out = A@B\n",
    "out2 = Dot1.float32(A, B)\n",
    "out3 = Dot2.float32(A, B)\n",
    "out4 = Dot3.float32(A, B)\n",
    "print(torch.allclose(out, out2))\n",
    "print(torch.allclose(out, out2))\n",
    "print(torch.allclose(out, out3))\n",
    "print(torch.allclose(out, out4))\n",
    "\n",
    "# Time each operation\n",
    "%timeit A@B\n",
    "%timeit Dot1.float32(A, B)\n",
    "%timeit Dot2.float32(A, B)\n",
    "%timeit Dot3.float32(A, B)"
   ]
  },
  {
   "cell_type": "markdown",
   "metadata": {},
   "source": [
    "We have a problem\n",
    "\n",
    "When doing the sum, only thread 1 is doing work. Can we make this better? Yes... yes we can."
   ]
  },
  {
   "cell_type": "markdown",
   "metadata": {},
   "source": [
    "Another problem occurs when we go beyond a dimension size of 1024. This is because the max number of threads is 1024. The code currently assumes each thread gets one elemnts, however in the case of the vector size being larger than 1024, each thread must get more than one element. I do not feel like dealing with this so cry about it.\n",
    "\n",
    "If you've cried about it and want to cope, then you can have each thread do num_elements//num_threads work instead of just 1 operation."
   ]
  },
  {
   "attachments": {
    "image.png": {
     "image/png": "[encoded data removed]"
    }
   },
   "cell_type": "markdown",
   "metadata": {},
   "source": [
    "# 4 - Utilizing warps and making a tree\n",
    "\n",
    "A \"warp\" is a special thing in cuda which allows for super efficient operations called \"warp level primitives\" which are really fast operations that can be performed in a warp.\n",
    "\n",
    "On all Nvidia GPUs the \"warp\" size is 32.\n",
    "\n",
    "This means we can utilize warp level primitives on 32 threads.\n",
    "\n",
    "One such primitive is a sum reduction. We can utilize this primitive to do a sum between 32 threads. This looks quite useful for our task :)\n",
    "\n",
    "We also want to utilize all threads as much as possible. To do this, we will create a binary tree as follows:\n",
    "         \n",
    "![image.png](attachment:image.png)\n",
    "\n",
    "This utilizes parallelism much better."
   ]
  },
  {
   "attachments": {
    "image.png": {
     "image/png": "[encoded data removed]"
    }
   },
   "cell_type": "markdown",
   "metadata": {},
   "source": [
    "![image.png](attachment:image.png)"
   ]
  },
  {
   "cell_type": "code",
   "execution_count": 12,
   "metadata": {},
   "outputs": [],
   "source": [
    "from kernel_go_brrrrr import Dot1, Dot2, Dot3, Dot4"
   ]
  },
  {
   "cell_type": "code",
   "execution_count": 13,
   "metadata": {},
   "outputs": [
    {
     "name": "stdout",
     "output_type": "stream",
     "text": [
      "True\n",
      "True\n",
      "True\n",
      "True\n",
      "True\n"
     ]
    },
    {
     "name": "stdout",
     "output_type": "stream",
     "text": [
      "23.2 µs ± 1.09 µs per loop (mean ± std. dev. of 7 runs, 10,000 loops each)\n",
      "33.6 µs ± 3.4 µs per loop (mean ± std. dev. of 7 runs, 10,000 loops each)\n",
      "32.5 µs ± 1.6 µs per loop (mean ± std. dev. of 7 runs, 10,000 loops each)\n",
      "33.3 µs ± 1.92 µs per loop (mean ± std. dev. of 7 runs, 10,000 loops each)\n",
      "33.6 µs ± 992 ns per loop (mean ± std. dev. of 7 runs, 10,000 loops each)\n"
     ]
    }
   ],
   "source": [
    "# Small dot product\n",
    "N = 64\n",
    "A = torch.randn(N).cuda()\n",
    "B = torch.randn(N).cuda()\n",
    "\n",
    "# Outputs should be the same\n",
    "out = A@B\n",
    "out2 = Dot1.float32(A, B)\n",
    "out3 = Dot2.float32(A, B)\n",
    "out4 = Dot3.float32(A, B)\n",
    "out5 = Dot4.float32(A, B)\n",
    "print(torch.allclose(out, out2))\n",
    "print(torch.allclose(out, out2))\n",
    "print(torch.allclose(out, out3))\n",
    "print(torch.allclose(out, out4))\n",
    "print(torch.allclose(out, out5))\n",
    "\n",
    "# Time each operation\n",
    "%timeit A@B\n",
    "%timeit Dot1.float32(A, B)\n",
    "%timeit Dot2.float32(A, B)\n",
    "%timeit Dot3.float32(A, B)\n",
    "%timeit Dot4.float32(A, B)"
   ]
  },
  {
   "cell_type": "code",
   "execution_count": 14,
   "metadata": {},
   "outputs": [
    {
     "name": "stdout",
     "output_type": "stream",
     "text": [
      "27.7 µs ± 1.57 µs per loop (mean ± std. dev. of 7 runs, 10,000 loops each)\n",
      "63.4 µs ± 1.21 µs per loop (mean ± std. dev. of 7 runs, 10,000 loops each)\n",
      "44.3 µs ± 1.9 µs per loop (mean ± std. dev. of 7 runs, 10,000 loops each)\n",
      "36 µs ± 2 µs per loop (mean ± std. dev. of 7 runs, 10,000 loops each)\n",
      "32.6 µs ± 725 ns per loop (mean ± std. dev. of 7 runs, 10,000 loops each)\n"
     ]
    }
   ],
   "source": [
    "# Large dot product\n",
    "N = 1024\n",
    "A = torch.randn(N).cuda()\n",
    "B = torch.randn(N).cuda()\n",
    "\n",
    "# Time each operation\n",
    "%timeit A@B\n",
    "%timeit Dot1.float32(A, B)\n",
    "%timeit Dot2.float32(A, B)\n",
    "%timeit Dot3.float32(A, B)\n",
    "%timeit Dot4.float32(A, B)"
   ]
  },
  {
   "cell_type": "markdown",
   "metadata": {},
   "source": []
  },
  {
   "cell_type": "markdown",
   "metadata": {},
   "source": []
  },
  {
   "cell_type": "markdown",
   "metadata": {},
   "source": []
  },
  {
   "cell_type": "markdown",
   "metadata": {},
   "source": [
    "# 5 - Matrix Multiplication\n",
    "\n",
    "Let's do a basic matrix multiplication between an Nxd and Mxd matrix."
   ]
  },
  {
   "cell_type": "code",
   "execution_count": 15,
   "metadata": {},
   "outputs": [],
   "source": [
    "from kernel_go_brrrrr import Matmul1"
   ]
  },
  {
   "cell_type": "code",
   "execution_count": 16,
   "metadata": {},
   "outputs": [
    {
     "name": "stdout",
     "output_type": "stream",
     "text": [
      "True\n"
     ]
    },
    {
     "name": "stdout",
     "output_type": "stream",
     "text": [
      "19.7 µs ± 500 ns per loop (mean ± std. dev. of 7 runs, 100,000 loops each)\n",
      "20 ms ± 68.6 µs per loop (mean ± std. dev. of 7 runs, 10 loops each)\n"
     ]
    }
   ],
   "source": [
    "N = 128\n",
    "M = 256\n",
    "d = 64\n",
    "\n",
    "A = torch.randn(N, d).cuda()\n",
    "B = torch.randn(M, d).cuda()\n",
    "\n",
    "out = A@B.T\n",
    "out2 = Matmul1.float32(A, B)\n",
    "\n",
    "# Outputs should be the same\n",
    "print(torch.allclose(out, out2))\n",
    "\n",
    "# Time each operation\n",
    "%timeit A@B.T\n",
    "%timeit Matmul1.float32(A, B)"
   ]
  },
  {
   "cell_type": "code",
   "execution_count": null,
   "metadata": {},
   "outputs": [],
   "source": []
  },
  {
   "cell_type": "markdown",
   "metadata": {},
   "source": [
    "# 6 - Parallelizing the matmul\n",
    "first idea may be to have d threads which will do the dot product, like we did before."
   ]
  },
  {
   "cell_type": "code",
   "execution_count": 17,
   "metadata": {},
   "outputs": [],
   "source": [
    "from kernel_go_brrrrr import Matmul1, Matmul2"
   ]
  },
  {
   "cell_type": "code",
   "execution_count": 18,
   "metadata": {},
   "outputs": [
    {
     "name": "stdout",
     "output_type": "stream",
     "text": [
      "True\n",
      "True\n"
     ]
    },
    {
     "name": "stdout",
     "output_type": "stream",
     "text": [
      "19.8 µs ± 429 ns per loop (mean ± std. dev. of 7 runs, 100,000 loops each)\n",
      "73.5 ms ± 56.7 µs per loop (mean ± std. dev. of 7 runs, 10 loops each)\n",
      "15.7 ms ± 37.9 µs per loop (mean ± std. dev. of 7 runs, 100 loops each)\n"
     ]
    }
   ],
   "source": [
    "N = 128\n",
    "M = 256\n",
    "d = 128\n",
    "\n",
    "A = torch.randn(N, d).cuda()\n",
    "B = torch.randn(M, d).cuda()\n",
    "\n",
    "out = A@B.T\n",
    "out2 = Matmul1.float32(A, B)\n",
    "out3 = Matmul2.float32(A, B)\n",
    "\n",
    "# Outputs should be the same\n",
    "print(torch.allclose(out, out2, 3))\n",
    "print(torch.allclose(out, out3, 3))\n",
    "\n",
    "# Time each operation\n",
    "%timeit A@B.T\n",
    "%timeit Matmul1.float32(A, B)\n",
    "%timeit Matmul2.float32(A, B)"
   ]
  },
  {
   "cell_type": "markdown",
   "metadata": {},
   "source": [
    "this still sucks"
   ]
  },
  {
   "attachments": {
    "image.png": {
     "image/png": "[encoded data removed]"
    }
   },
   "cell_type": "markdown",
   "metadata": {},
   "source": [
    "# 7 - Tiling\n",
    "\n",
    "So what's the problem?\n",
    "- We do not have enough threads to do all computations at once\n",
    "- So, we must breakup the computation into groups which will be computed by all the threads at our disposal.\n",
    "\n",
    "We will finally utilize blocks. The idea is that we can \"tile\" the output matrix and do computations over a sliding window.\n",
    "\n",
    "![image.png](attachment:image.png)"
   ]
  },
  {
   "cell_type": "code",
   "execution_count": 19,
   "metadata": {},
   "outputs": [],
   "source": [
    "from kernel_go_brrrrr import Matmul1, Matmul2, Matmul3"
   ]
  },
  {
   "cell_type": "code",
   "execution_count": 20,
   "metadata": {},
   "outputs": [
    {
     "name": "stdout",
     "output_type": "stream",
     "text": [
      "True\n",
      "True\n",
      "True\n"
     ]
    },
    {
     "name": "stdout",
     "output_type": "stream",
     "text": [
      "70.9 µs ± 19.7 µs per loop (mean ± std. dev. of 7 runs, 10,000 loops each)\n",
      "78.4 ms ± 31 µs per loop (mean ± std. dev. of 7 runs, 10 loops each)\n",
      "15.4 ms ± 16.2 µs per loop (mean ± std. dev. of 7 runs, 100 loops each)\n",
      "191 µs ± 1.73 µs per loop (mean ± std. dev. of 7 runs, 10,000 loops each)\n"
     ]
    }
   ],
   "source": [
    "N = 128\n",
    "M = 256\n",
    "d = 128\n",
    "\n",
    "A = torch.randn(N, d).cuda()\n",
    "B = torch.randn(M, d).cuda()\n",
    "\n",
    "out = A@B.T\n",
    "out2 = Matmul1.float32(A, B)\n",
    "out3 = Matmul2.float32(A, B)\n",
    "out4 = Matmul3.float32(A, B)\n",
    "\n",
    "# Outputs should be the same\n",
    "print(torch.allclose(out, out2, 3))\n",
    "print(torch.allclose(out, out3, 3))\n",
    "print(torch.allclose(out, out4, 3))\n",
    "\n",
    "# Time each operation\n",
    "%timeit A@B.T\n",
    "%timeit Matmul1.float32(A, B)\n",
    "%timeit Matmul2.float32(A, B)\n",
    "%timeit Matmul3.float32(A, B)"
   ]
  },
  {
   "cell_type": "markdown",
   "metadata": {},
   "source": [
    "# 8 - Preload data\n",
    "\n",
    "We can also preload the data into a cache with all the threads before doing the computiong. In this case, it doesn't do much, but in same cases it can be better."
   ]
  },
  {
   "cell_type": "code",
   "execution_count": 21,
   "metadata": {},
   "outputs": [],
   "source": [
    "from kernel_go_brrrrr import Matmul1, Matmul2, Matmul3, Matmul4"
   ]
  },
  {
   "cell_type": "code",
   "execution_count": 26,
   "metadata": {},
   "outputs": [
    {
     "name": "stdout",
     "output_type": "stream",
     "text": [
      "True\n",
      "True\n",
      "True\n",
      "True\n",
      "26.9 µs ± 8.66 µs per loop (mean ± std. dev. of 7 runs, 10,000 loops each)\n",
      "78.2 ms ± 117 µs per loop (mean ± std. dev. of 7 runs, 10 loops each)\n",
      "15.5 ms ± 113 µs per loop (mean ± std. dev. of 7 runs, 100 loops each)\n",
      "215 µs ± 6.8 µs per loop (mean ± std. dev. of 7 runs, 10,000 loops each)\n",
      "219 µs ± 13.7 µs per loop (mean ± std. dev. of 7 runs, 1,000 loops each)\n"
     ]
    }
   ],
   "source": [
    "N = 128\n",
    "M = 256\n",
    "d = 128\n",
    "\n",
    "A = torch.randn(N, d).cuda()\n",
    "B = torch.randn(M, d).cuda()\n",
    "\n",
    "out = A@B.T\n",
    "out2 = Matmul1.float32(A, B)\n",
    "out3 = Matmul2.float32(A, B)\n",
    "out4 = Matmul3.float32(A, B)\n",
    "out5 = Matmul4.float32(A, B)\n",
    "\n",
    "# Outputs should be the same\n",
    "print(torch.allclose(out, out2, 3))\n",
    "print(torch.allclose(out, out3, 3))\n",
    "print(torch.allclose(out, out4, 3))\n",
    "print(torch.allclose(out, out5, 3))\n",
    "\n",
    "# Time each operation\n",
    "%timeit A@B.T\n",
    "%timeit Matmul1.float32(A, B)\n",
    "%timeit Matmul2.float32(A, B)\n",
    "%timeit Matmul3.float32(A, B)\n",
    "%timeit Matmul4.float32(A, B)"
   ]
  },
  {
   "cell_type": "code",
   "execution_count": 31,
   "metadata": {},
   "outputs": [
    {
     "name": "stdout",
     "output_type": "stream",
     "text": [
      "21.4 µs ± 955 ns per loop (mean ± std. dev. of 7 runs, 10,000 loops each)\n",
      "96.7 ms ± 72 µs per loop (mean ± std. dev. of 7 runs, 10 loops each)\n",
      "15.1 ms ± 34.4 µs per loop (mean ± std. dev. of 7 runs, 100 loops each)\n",
      "284 µs ± 7.66 µs per loop (mean ± std. dev. of 7 runs, 1,000 loops each)\n",
      "300 µs ± 18.6 µs per loop (mean ± std. dev. of 7 runs, 1,000 loops each)\n"
     ]
    }
   ],
   "source": [
    "N = 128\n",
    "M = 256\n",
    "d = 128\n",
    "\n",
    "A = torch.randn(N, d).cuda().to(torch.float16)\n",
    "B = torch.randn(M, d).cuda().to(torch.float16)\n",
    "\n",
    "out = A@B.T\n",
    "out2 = Matmul1.float16(A, B)\n",
    "out3 = Matmul2.float16(A, B)\n",
    "out4 = Matmul3.float16(A, B)\n",
    "out5 = Matmul4.float16(A, B)\n",
    "\n",
    "# Time each operation\n",
    "%timeit A@B.T\n",
    "%timeit Matmul1.float16(A, B)\n",
    "%timeit Matmul2.float16(A, B)\n",
    "%timeit Matmul3.float16(A, B)\n",
    "%timeit Matmul4.float16(A, B)"
   ]
  },
  {
   "cell_type": "code",
   "execution_count": null,
   "metadata": {},
   "outputs": [],
   "source": []
  }
 ],
 "metadata": {
  "kernelspec": {
   "display_name": "Python 3",
   "language": "python",
   "name": "python3"
  },
  "language_info": {
   "codemirror_mode": {
    "name": "ipython",
    "version": 3
   },
   "file_extension": ".py",
   "mimetype": "text/x-python",
   "name": "python",
   "nbconvert_exporter": "python",
   "pygments_lexer": "ipython3",
   "version": "3.10.10"
  }
 },
 "nbformat": 4,
 "nbformat_minor": 2
}
